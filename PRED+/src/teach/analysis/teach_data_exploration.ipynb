{
 "cells": [
  {
   "cell_type": "markdown",
   "id": "rental-collectible",
   "metadata": {},
   "source": [
    "# Exploring TEACh Data"
   ]
  },
  {
   "cell_type": "code",
   "execution_count": 1,
   "id": "digital-ordinance",
   "metadata": {},
   "outputs": [],
   "source": [
    "import os\n",
    "import sys\n",
    "import json\n",
    "import copy\n",
    "\n",
    "sys.path.append(\"../../\")"
   ]
  },
  {
   "cell_type": "code",
   "execution_count": 2,
   "id": "beautiful-dynamics",
   "metadata": {},
   "outputs": [],
   "source": [
    "from teach.dataset.definitions import Definitions\n",
    "from teach.dataset.dataset import Dataset\n",
    "from teach.dataset.actions import Action_Keyboard, Action_ObjectInteraction"
   ]
  },
  {
   "cell_type": "code",
   "execution_count": 3,
   "id": "stupid-navigation",
   "metadata": {},
   "outputs": [],
   "source": [
    "# Edit data directory if changed when using `teach_download`\n",
    "data_dir = \"/tmp/teach-dataset\""
   ]
  },
  {
   "cell_type": "markdown",
   "id": "thousand-heritage",
   "metadata": {},
   "source": [
    "### Definitions"
   ]
  },
  {
   "cell_type": "markdown",
   "id": "associate-thirty",
   "metadata": {},
   "source": [
    "Instantiate a `Definitions` object to access various definitions, mappings of agent IDs and actions to names, as well as task definitions. \n",
    "The code uses `Driver` when referring to the `Follower` in the paper. "
   ]
  },
  {
   "cell_type": "code",
   "execution_count": 4,
   "id": "spoken-polymer",
   "metadata": {},
   "outputs": [
    {
     "name": "stdout",
     "output_type": "stream",
     "text": [
      "Agent IDs to agents:  OrderedDict([(0, OrderedDict([('agent_name', 'Commander'), ('agent_type', 0)])), (1, OrderedDict([('agent_name', 'Driver'), ('agent_type', 1)]))])\n",
      "Status IDs to names:  OrderedDict([(0, 'Success'), (1, 'Failure')])\n"
     ]
    }
   ],
   "source": [
    "definitions = Definitions(version=\"2.0\")\n",
    "print(\"Agent IDs to agents: \", definitions.map_agents_id2info)\n",
    "print(\"Status IDs to names: \", definitions.map_status_id2name)"
   ]
  },
  {
   "cell_type": "markdown",
   "id": "robust-straight",
   "metadata": {},
   "source": [
    "Display mappings of action IDs to action names. Note that only a subset of these are used in TEACh data. Note that `definitions.map_tasks_name2info` ends up being more useful when trying to access actions by name. "
   ]
  },
  {
   "cell_type": "code",
   "execution_count": 5,
   "id": "compatible-bankruptcy",
   "metadata": {},
   "outputs": [
    {
     "name": "stdout",
     "output_type": "stream",
     "text": [
      "Action IDs to names:\n",
      "\t  0 : Stop\n",
      "\t  1 : Move to\n",
      "\t  2 : Forward\n",
      "\t  3 : Backward\n",
      "\t  4 : Turn Left\n",
      "\t  5 : Turn Right\n",
      "\t  6 : Look Up\n",
      "\t  7 : Look Down\n",
      "\t  8 : Pan Left\n",
      "\t  9 : Pan Right\n",
      "\t  10 : Move Up\n",
      "\t  11 : Move Down\n",
      "\t  12 : Double Forward\n",
      "\t  13 : Double Backward\n",
      "\t  300 : Navigation\n",
      "\t  200 : Pickup\n",
      "\t  201 : Place\n",
      "\t  202 : Open\n",
      "\t  203 : Close\n",
      "\t  204 : ToggleOn\n",
      "\t  205 : ToggleOff\n",
      "\t  206 : Slice\n",
      "\t  207 : Dirty\n",
      "\t  208 : Clean\n",
      "\t  209 : Fill\n",
      "\t  210 : Empty\n",
      "\t  211 : Pour\n",
      "\t  212 : Break\n",
      "\t  400 : BehindAboveOn\n",
      "\t  401 : BehindAboveOff\n",
      "\t  500 : OpenProgressCheck\n",
      "\t  501 : SelectOid\n",
      "\t  502 : SearchObject\n",
      "\t  100 : Text\n",
      "\t  101 : Speech\n",
      "\t  102 : Beep\n"
     ]
    }
   ],
   "source": [
    "print(\"Action IDs to names:\")\n",
    "for action_id, action in definitions.map_actions_id2info.items():\n",
    "    print(\"\\t \", action_id, \":\", action[\"action_name\"])"
   ]
  },
  {
   "cell_type": "markdown",
   "id": "stopped-backup",
   "metadata": {},
   "source": [
    "Tasks are also most convenient to access by name via `definitions.map_tasks_name2info` but can be accessed via ID using `definitions.map_tasks_id2info`. The values of both of these dictionaries are of type `Task_THOR`.  \n",
    "\n",
    "When a `Definitions` object is instantiated, all tasks defined under `src/teach/meta_data_files/task_definitions` get loaded. The Task Definition Language is explained in Appendix F of the [TEACh paper](https://arxiv.org/pdf/2110.00534.pdf). To create a new task, create a new JSON file under `src/teach/meta_data_files/task_definitions`. Each task needs to have a unique `task_id` and `task_name`. Tasks can be referenced in other tasks by their `task_name`. After creating a new task, test that it can be loaded any any inter-task dependencies can be resolved by instantiating a `Definitions` object.\n",
    "\n",
    "The following code snippet demonstrates how to print a few task details. Note that `#n` (where `n` is a number) indicates a variable."
   ]
  },
  {
   "cell_type": "code",
   "execution_count": 6,
   "id": "afraid-bahrain",
   "metadata": {},
   "outputs": [
    {
     "name": "stdout",
     "output_type": "stream",
     "text": [
      "Task details by name:\n",
      "Task name                         Task ID    Num task params      Task component names\n",
      "Breakfast                           301             14         ['coffee', 'toast', 'potatoes', 'apple', 'sandwich', 'salad', 'serving_spot']\n",
      "Boil X                              112             1          ['boiled_#0']\n",
      "Basic Kitchen Tasks                 401             0          ['coffee', 'toast', 'omelette', 'spatula', 'drawer']\n",
      "Tutorial                            201             0          ['coffee', 'potato']\n",
      "Water Plant                         114             0          ['water_plant']\n",
      "Sliced X                            104             1          ['#0', 'knife']\n",
      "Basic Bathroom Tasks                403             0          ['faucets', 'candles', 'soap', 'counter']\n",
      "Sandwich                            302             2          ['toast', 'lettuce', 'tomato', 'plate']\n",
      "Put All X On Y                      110             3          ['#0', '#2']\n",
      "Poach Egg                           113             0          ['poached_egg']\n",
      "Clean All X                         115             1          ['#0', 'sink']\n",
      "Put All X In One Y                  111             3          ['#0', '#2']\n",
      "Omelette                            109             0          ['omelette']\n",
      "Coffee                              102             0          ['coffee']\n",
      "Toast                               101             0          ['toast']\n",
      "N Slices Of X In Y                  108             4          ['#1', '#3']\n",
      "N Cooked Slices Of X In Y           107             4          ['#1', '#3']\n",
      "Toggle X All Y                      116             3          ['#1']\n",
      "Plate Of Toast                      106             0          ['toast', 'plate']\n",
      "Salad                               303             3          ['lettuce', 'tomato', 'potato', 'plate']\n",
      "Candles                             304             0          ['candles', 'bathtub']\n",
      "Clean X                             103             1          ['#0', 'sink']\n",
      "Workspace                           305             3          ['writing', 'laptop', 'book', 'gather_spot', 'lights']\n",
      "Custom Properties Kitchen Tasks     405             0          ['boiled_potato', 'poached_egg']\n",
      "Cooked Slice Of X                   105             1          ['#0', 'knife']\n"
     ]
    }
   ],
   "source": [
    "print(\"Task details by name:\")\n",
    "print(\"Task name\".ljust(33, \" \"), \"Task ID\".ljust(10, \" \"), \"Num task params\".ljust(20, \" \"), \"Task component names\")\n",
    "for task_name, task in definitions.map_tasks_name2info.items():\n",
    "    print(\n",
    "        task_name.ljust(35, \" \"),\n",
    "        str(task.task_id).ljust(15, \" \"),\n",
    "        str(task.task_nparams).ljust(10, \" \"),\n",
    "        str(list(task.components.keys())),\n",
    "    )"
   ]
  },
  {
   "cell_type": "markdown",
   "id": "aging-easter",
   "metadata": {},
   "source": [
    "### Gameplay Sessions\n",
    "Gameplay sessions are stored in `json` files. The `games` subdirectory consists of one subdirectory per split each containing game files of that split. When loaded, these are dictionaries and for many purposes, it is sufficient to analyze the dictionaries. Some examples:   "
   ]
  },
  {
   "cell_type": "code",
   "execution_count": 7,
   "id": "loving-coalition",
   "metadata": {},
   "outputs": [
    {
     "name": "stdout",
     "output_type": "stream",
     "text": [
      "dict_keys(['version', 'task_type', 'comments', 'definitions', 'tasks'])\n"
     ]
    }
   ],
   "source": [
    "f = os.path.join(data_dir, \"games/train/7d2a79f43e605c36_1657.game.json\")\n",
    "with open(f) as h:\n",
    "    game_dict = json.load(h)\n",
    "print(game_dict.keys())"
   ]
  },
  {
   "cell_type": "markdown",
   "id": "close-senator",
   "metadata": {},
   "source": [
    "While the game dictionary contains other keys, the important one is `tasks`. `version`, `task_type` and `comments` are dataset-specific metadata, and `definitions` contains the version of the `Definitions` object used to collect the data. However, all games in the subdirectory `games` have been verified to be replayable and resulting in task success using the current (released) version of the `Definitions` object. `tasks` is always a list of length 1 in this dataset.  "
   ]
  },
  {
   "cell_type": "code",
   "execution_count": 8,
   "id": "continuous-animal",
   "metadata": {},
   "outputs": [
    {
     "name": "stdout",
     "output_type": "stream",
     "text": [
      "dict_keys(['task_id', 'task_name', 'task_params', 'task_nparams', 'task_anchor_object', 'desc', 'components', 'relations', 'comments', 'episodes'])\n"
     ]
    }
   ],
   "source": [
    "print(game_dict[\"tasks\"][0].keys())"
   ]
  },
  {
   "cell_type": "markdown",
   "id": "cheap-thailand",
   "metadata": {},
   "source": [
    "This is a dictionary that can be converted to a `Task_THOR` object. All keys except `episodes` are associated with the task definition and can be better understood by reading Appendix F of the [TEACh paper](https://arxiv.org/pdf/2110.00534.pdf). For all game files in this dataset `game_dict['tasks'][0]['episodes']` will be a list of length 1 and `game_dict['tasks'][0]['episodes'][0]` contains the actual sequence of actions taken in the episode. "
   ]
  },
  {
   "cell_type": "code",
   "execution_count": 9,
   "id": "certified-norfolk",
   "metadata": {},
   "outputs": [
    {
     "name": "stdout",
     "output_type": "stream",
     "text": [
      "dict_keys(['episode_id', 'world', 'world_type', 'commander_embodied', 'initial_state', 'interactions', 'final_state'])\n"
     ]
    }
   ],
   "source": [
    "print(game_dict[\"tasks\"][0][\"episodes\"][0].keys())"
   ]
  },
  {
   "cell_type": "markdown",
   "id": "diagnostic-payday",
   "metadata": {},
   "source": [
    "Episodes are used to store the initial and final simulator state, as well as the sequence of actions taken in a gameplay session. The components of an episode are:\n",
    "* `episode_id` - A unique id\n",
    "* `world_type` - Type of room which is one of `Kitchen`, `Bedroom`, `Bathroom` and `Living room` \n",
    "* `world` - ID of the specific AI2-THOR floor plan used for this gameplay session\n",
    "* `commander_embodied` - False for all TEACh games\n",
    "* `initial_state`, `final_state` - Dictionaries consisting of the initial and final state of the world including\n",
    "    * `time_start` - \n",
    "    * `agents` - Position and orientation of each agent/ camera at start and end of episode\n",
    "    * `objects` - A list of the state of all objects at the start and end of the episode. Each object is represented by a dictionary whose keys are property names and values are property values.\n",
    "    * `custom_object_metadata` - A dictionary to track custom properties in our codebase that are not present in AI2-THOR. This is a dictionary with AI2-THOR objectId as key and a dictionary of (custom_property_name, custom_property_value) pairs as values\n",
    "* `interactions` - An ordered list of interactions that occurred in the environment, each represented by a dictionary of\n",
    "    * `agent_id` - The agent that took the action\n",
    "    * `action_id` - Which action was taken\n",
    "    * `time_start` - Duration of time between start of episode and when this action started\n",
    "    * `duration` - Duration of time (in sec) taken to execute this action\n",
    "    * `success` - 1 if the action was successfully executed during data collection and 0 otherwise. An example of a case where `success` might be 0 is if the human annotator tried to pick up an object from too far away \n",
    "    * Action specific keys. Some examples include\n",
    "        * `utterance` for a `Text` action - Stores the text value of the utterance made\n",
    "        * `pose_delta` and `pose` for a navigation action\n",
    "        \n",
    "Code snippet to print out the sequence of actions taken in an episode:"
   ]
  },
  {
   "cell_type": "code",
   "execution_count": 10,
   "id": "governmental-sheep",
   "metadata": {},
   "outputs": [],
   "source": [
    "def print_actions_from_game_dict(game_dict, definitions):\n",
    "    interactions = game_dict[\"tasks\"][0][\"episodes\"][0][\"interactions\"]\n",
    "    print(\n",
    "        \"Time Start\",\n",
    "        \"Action Success\".ljust(15, \" \"),\n",
    "        \"Agent\".ljust(15, \" \"),\n",
    "        \"Action\".ljust(20, \" \"),\n",
    "        \"Utterance text / Object ID / Object X, Y\",\n",
    "    )\n",
    "    for interaction in interactions:\n",
    "        output_str = \"\".rjust(2, \" \")\n",
    "        output_str += (\"%.2f\" % interaction[\"time_start\"]).ljust(15, \" \")\n",
    "        output_str += str(interaction[\"success\"]).ljust(10, \" \")\n",
    "        output_str += definitions.map_agents_id2info[interaction[\"agent_id\"]][\"agent_name\"].ljust(15, \" \")\n",
    "        output_str += definitions.map_actions_id2info[interaction[\"action_id\"]][\"action_name\"].ljust(20, \" \")\n",
    "        if \"utterance\" in interaction:\n",
    "            output_str += interaction[\"utterance\"]\n",
    "        elif \"oid\" in interaction and interaction[\"oid\"] is not None:\n",
    "            output_str += interaction[\"oid\"]\n",
    "        elif \"x\" in interaction and \"y\" in interaction:\n",
    "            output_str += \"(\" + str(interaction[\"x\"]) + \", \" + str(interaction[\"y\"]) + \")\"\n",
    "        print(output_str)"
   ]
  },
  {
   "cell_type": "code",
   "execution_count": 11,
   "id": "found-oliver",
   "metadata": {},
   "outputs": [
    {
     "name": "stdout",
     "output_type": "stream",
     "text": [
      "Time Start Action Success  Agent           Action               Utterance text / Object ID / Object X, Y\n",
      "  15.29          0         Commander      OpenProgressCheck   \n",
      "  27.85          1         Commander      Text                I need the newspaper to be placed on a single table.\n",
      "  29.49          1         Commander      SelectOid           \n",
      "  39.11          1         Driver         Text                what should i do\n",
      "  61.21          1         Driver         Pan Left            \n",
      "  61.59          1         Driver         Pan Left            \n",
      "  61.84          1         Driver         Pan Left            \n",
      "  62.12          1         Commander      Text                I need the newspaper placed on a single table.\n",
      "  70.16          1         Driver         Pickup              Newspaper|-04.15|+00.36|-02.48\n",
      "  87.74          1         Driver         Place               CoffeeTable|-02.47|+00.00|-02.49\n",
      "  92.55          1         Commander      OpenProgressCheck   \n"
     ]
    }
   ],
   "source": [
    "print_actions_from_game_dict(game_dict, definitions)"
   ]
  },
  {
   "cell_type": "markdown",
   "id": "special-method",
   "metadata": {},
   "source": [
    "Note that for all object interactions, the relative coordinates of the object on the agent's egocentric image are available in `interaction['x'], interaction['y']`. In the cases where the wrapper was able to resolve these to an object ID using the segmentation frame, we also have the ID of the object interacted with in `interaction['oid']` but if the wrapper was forced to backoff to raycasting, then this is not available.   \n",
    "\n",
    "It is also possible to import a game file into a `Dataset` object as follows."
   ]
  },
  {
   "cell_type": "code",
   "execution_count": 12,
   "id": "approximate-camcorder",
   "metadata": {},
   "outputs": [],
   "source": [
    "f = os.path.join(data_dir, \"games/train/7d2a79f43e605c36_1657.game.json\")\n",
    "game = Dataset.import_json(f)"
   ]
  },
  {
   "cell_type": "markdown",
   "id": "abandoned-madness",
   "metadata": {},
   "source": [
    "The following is how the code snippet to print out the same action info would look using the object oriented representation:"
   ]
  },
  {
   "cell_type": "code",
   "execution_count": 13,
   "id": "asian-printing",
   "metadata": {},
   "outputs": [],
   "source": [
    "def print_actions_from_game_as_dataset(game, definitions):\n",
    "    interactions = game.tasks[0].episodes[0].interactions\n",
    "    print(\n",
    "        \"Time Start\",\n",
    "        \"Action Success\".ljust(15, \" \"),\n",
    "        \"Agent\".ljust(15, \" \"),\n",
    "        \"Action\".ljust(20, \" \"),\n",
    "        \"Utterance text / Object ID / Object X, Y\",\n",
    "    )\n",
    "    for interaction in interactions:\n",
    "        output_str = \"\".rjust(2, \" \")\n",
    "        output_str += (\"%.2f\" % interaction.time_start).ljust(15, \" \")\n",
    "        output_str += str(interaction.status).ljust(10, \" \")\n",
    "        output_str += definitions.map_agents_id2info[interaction.agent_id][\"agent_name\"].ljust(15, \" \")\n",
    "        output_str += definitions.map_actions_id2info[interaction.action.action_id][\"action_name\"].ljust(20, \" \")\n",
    "        if isinstance(interaction.action, Action_Keyboard):\n",
    "            output_str += interaction.action.utterance\n",
    "        if isinstance(interaction.action, Action_ObjectInteraction):\n",
    "            if interaction.action.oid is None:\n",
    "                output_str += \"(\" + str(interaction.action.x) + \", \" + str(interaction.action.y) + \")\"\n",
    "            else:\n",
    "                output_str += interaction.action.oid\n",
    "        print(output_str)"
   ]
  },
  {
   "cell_type": "code",
   "execution_count": 14,
   "id": "loose-advertiser",
   "metadata": {},
   "outputs": [
    {
     "name": "stdout",
     "output_type": "stream",
     "text": [
      "Time Start Action Success  Agent           Action               Utterance text / Object ID / Object X, Y\n",
      "  15.29          None      Commander      OpenProgressCheck   \n",
      "  27.85          None      Commander      Text                I need the newspaper to be placed on a single table.\n",
      "  29.49          None      Commander      SelectOid           \n",
      "  39.11          None      Driver         Text                what should i do\n",
      "  61.21          None      Driver         Pan Left            \n",
      "  61.59          None      Driver         Pan Left            \n",
      "  61.84          None      Driver         Pan Left            \n",
      "  62.12          None      Commander      Text                I need the newspaper placed on a single table.\n",
      "  70.16          None      Driver         Pickup              Newspaper|-04.15|+00.36|-02.48\n",
      "  87.74          None      Driver         Place               CoffeeTable|-02.47|+00.00|-02.49\n",
      "  92.55          None      Commander      OpenProgressCheck   \n"
     ]
    }
   ],
   "source": [
    "print_actions_from_game_as_dataset(game, definitions)"
   ]
  },
  {
   "cell_type": "markdown",
   "id": "norwegian-mortgage",
   "metadata": {},
   "source": [
    "Note that while the object oriented representation of the game can be manipulated more easily in the code, the task of the game does not get perfectly loaded. Specifically, when loading a game file, no attempt is made to resolve components of tasks that are themselves tasks. Additionally, the final state does not get loaded. The following code snippet shows how to check whether the task associated with a gameplay session is complete at the final state, by directly loading the game json file as a dictionary. "
   ]
  },
  {
   "cell_type": "code",
   "execution_count": 15,
   "id": "dried-montreal",
   "metadata": {},
   "outputs": [
    {
     "name": "stdout",
     "output_type": "stream",
     "text": [
      "True\n"
     ]
    }
   ],
   "source": [
    "definitions = Definitions(version=\"2.0\")\n",
    "f = os.path.join(data_dir, \"games/train/7d2a79f43e605c36_1657.game.json\")\n",
    "with open(f) as h:\n",
    "    game_dict = json.load(h)\n",
    "game_task = game_dict[\"tasks\"][0]\n",
    "task_to_check = copy.deepcopy(\n",
    "    definitions.map_tasks_name2info[game_task[\"task_name\"]]\n",
    ")  # Copying is important if you're sharing a definitions object across calls\n",
    "task_to_check.task_params = game_task[\"task_params\"]\n",
    "final_state_objects = game_dict[\"tasks\"][0][\"episodes\"][0][\"final_state\"][\"objects\"]\n",
    "task_check_output = task_to_check.check_episode_progress(final_state_objects)\n",
    "print(task_check_output[\"success\"])"
   ]
  },
  {
   "cell_type": "markdown",
   "id": "apart-benefit",
   "metadata": {},
   "source": [
    "### EDH Instances\n",
    "EDH instances are stored in `json` files. The `edh_instances` subdirectory consists of one subdirectory per split each containing EDH instances of that split. EDH instances do not have a corresponding object oriented representation and need to be manipulated as dictionaries."
   ]
  },
  {
   "cell_type": "code",
   "execution_count": 16,
   "id": "parallel-border",
   "metadata": {},
   "outputs": [
    {
     "name": "stdout",
     "output_type": "stream",
     "text": [
      "dict_keys(['future_subgoals', 'pred_start_idx', 'expected_init_goal_conditions_satisfied', 'interactions', 'init_state_diff', 'expected_init_goal_conditions_total', 'expected_init_success', 'instance_id', 'driver_image_history', 'dialog_history', 'state_changes', 'driver_actions_future', 'driver_images_future', 'final_state_diff', 'game_id', 'driver_action_history', 'dialog_history_cleaned', 'history_subgoals'])\n"
     ]
    }
   ],
   "source": [
    "f = os.path.join(data_dir, \"edh_instances/train/7d2a79f43e605c36_1657.edh0.json\")\n",
    "with open(f) as h:\n",
    "    edh_instance = json.load(h)\n",
    "print(edh_instance.keys())"
   ]
  },
  {
   "cell_type": "markdown",
   "id": "dietary-conviction",
   "metadata": {},
   "source": [
    "The components of an EDH instance are:\n",
    "* `game_id` - ID of the gameplay session this was created from (the filename of a gameplay session file is of the form game_id.game.json)\n",
    "* `instance_id` - ID of this EDH instance\n",
    "* `interactions` - Subset of game interactions used to create this EDH instance (note that on the test set `interactions` will be modified so that actions to be predicted will not be included)\n",
    "* `pred_start_idx` - Start index of actions to be predicted in `interactions` \n",
    "* `dialog_history` - Utterances in dialog history of the EDH instance paired with the speaker for each turn\n",
    "* `dialog_history_cleaned` - Cleaned version of `dialog_history` with spell correction and removal of utterances commenting on the annotation interface (see Appendix B for details of data cleaning)\n",
    "* `driver_action_history` - Environment actions provided as history. Each action is represented as a dictionary containing\n",
    "    * `action_id`, `action_name` of the action according to the action definition\n",
    "    * `action_idx` - Modified `action_id` to be in the range 0-35 for easier use in prediction (note that this still contains unused actions)\n",
    "    * `time_start` - Timestamp from `interaction` corresponding to this action\n",
    "    * `obj_interaction_action` - 1 if the action is an object interaction action and 0 otherwise\n",
    "    * `oid` - Object ID of the object interacted with; None if the object is unknown or if the action was not an object interaction action\n",
    "    * `x`, `y` - Relative coordinates on egocentric image indicating the coordinate used for an object interaction action; None is the action was not an object interaction action\n",
    "* `driver_image_history` - Filename of image file of egocentric driver observation preceding each action in `driver_action_history`, that is, `driver_image_history[idx]` is the filename where the image for the driver's egocentric observation just before taking action `driver_action_history[idx]` is saved. \n",
    "* `driver_actions_future` - Environment actions to be predicted; Format is identical to `driver_action_history`; Not available at test time\n",
    "* `driver_images_future` - Image observations corresponding to environment actions to be predicted; Format is identical to `driver_image_history`; Not available at test time\n",
    "* `history_subgoals` - Programmatically created sequence of \"subgoals\" corresponding to environment actions provided as history - this is created by replacing every sequence of navigation actions with an abstract \"Navigate\" action with the destination as the next object manipulated. \n",
    "* `future_subgoals` - Programmatically created sequence of \"subgoals\" corresponding to environment actions to be predicted; Format identical to `history_subgoals`; Not available at test time\n",
    "* `expected_init_success` - Should be 1 for all EDH instances; This flag was used to filter EDH instances whose action history could not be reliably replayed\n",
    "* `expected_init_goal_conditions_total`, `expected_init_goal_conditions_satisfied` - When task completion status is checked, two of the statistics returned are `goal_conditions_total`, which is the number of object properties in the environment that were checked, and `goal_conditions_satisfied`, which is the number of checked object properties that were satisfied. These entries cache the values for these two statistics after replaying all history actions in the EDH instance. For calculating the goal condition success rate metric (GC), the task completion status is checked again after the model-predicted trajectory ends. At this time, along with the final task success rate, we also obtain final values, `final_goal_conditions_total` and `final_goal_conditions_satisfied`. GC is then calculated as `(1.0 - ((final_goal_conditions_total - final_goal_conditions_satisfied) / (expected_init_goal_conditions_total - expected_init_goal_conditions_satisfied)))`\n",
    "* `init_state_diff` - Differences in object properties between the initial state of the gameplay session and the state at the end of actions taken in the dialog history\n",
    "* `final_state_diff` - Differences in object properties between the initial state of the gameplay session and the state after playing all ground truth actions int he EDH instance\n",
    "* `state_changes` - State changes between `init_state_diff` and `final_state_diff` used to construct the task that will be used to evaluate this EDH instance\n",
    "\n",
    "For inference and evaluation it is recommended to use the provided inference script at [src/teach/cli/inference.py](https://github.com/alexa/teach/blob/main/src/teach/cli/inference.py)"
   ]
  }
 ],
 "metadata": {
  "kernelspec": {
   "display_name": "teach_env",
   "language": "python",
   "name": "teach_env"
  },
  "language_info": {
   "codemirror_mode": {
    "name": "ipython",
    "version": 3
   },
   "file_extension": ".py",
   "mimetype": "text/x-python",
   "name": "python",
   "nbconvert_exporter": "python",
   "pygments_lexer": "ipython3",
   "version": "3.9.1"
  }
 },
 "nbformat": 4,
 "nbformat_minor": 5
}
